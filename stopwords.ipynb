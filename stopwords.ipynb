import nltk
from nltk.corpus import stopwords
stop_words_en = sorted(set(stopwords.words("english")))
print(stop_words_en)
